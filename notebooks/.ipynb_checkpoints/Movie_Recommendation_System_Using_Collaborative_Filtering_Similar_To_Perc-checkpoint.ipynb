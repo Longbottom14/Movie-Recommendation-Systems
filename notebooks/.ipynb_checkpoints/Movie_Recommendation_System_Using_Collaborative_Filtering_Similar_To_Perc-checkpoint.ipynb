{
 "cells": [
  {
   "cell_type": "code",
   "execution_count": 1,
   "id": "df4b1284",
   "metadata": {},
   "outputs": [],
   "source": [
    "import pandas as pd\n",
    "import numpy as np\n",
    "import matplotlib.pyplot as plt\n",
    "import seaborn as sns\n",
    "pd.set_option('display.max_columns', None)\n",
    "import warnings \n",
    "warnings.filterwarnings('ignore')"
   ]
  },
  {
   "cell_type": "code",
   "execution_count": 2,
   "id": "4a147102",
   "metadata": {},
   "outputs": [],
   "source": [
    "from IPython.display import display\n",
    "import ipywidgets as widgets\n",
    "import re\n",
    "from sklearn.feature_extraction.text import TfidfVectorizer\n",
    "from sklearn.metrics.pairwise import cosine_similarity"
   ]
  },
  {
   "cell_type": "code",
   "execution_count": 3,
   "id": "1705ac1a",
   "metadata": {
    "scrolled": true
   },
   "outputs": [
    {
     "name": "stdout",
     "output_type": "stream",
     "text": [
      "movies.shape :  (62423, 3)\n"
     ]
    },
    {
     "data": {
      "text/html": [
       "<div>\n",
       "<style scoped>\n",
       "    .dataframe tbody tr th:only-of-type {\n",
       "        vertical-align: middle;\n",
       "    }\n",
       "\n",
       "    .dataframe tbody tr th {\n",
       "        vertical-align: top;\n",
       "    }\n",
       "\n",
       "    .dataframe thead th {\n",
       "        text-align: right;\n",
       "    }\n",
       "</style>\n",
       "<table border=\"1\" class=\"dataframe\">\n",
       "  <thead>\n",
       "    <tr style=\"text-align: right;\">\n",
       "      <th></th>\n",
       "      <th>movieId</th>\n",
       "      <th>title</th>\n",
       "      <th>genres</th>\n",
       "    </tr>\n",
       "  </thead>\n",
       "  <tbody>\n",
       "    <tr>\n",
       "      <th>0</th>\n",
       "      <td>1</td>\n",
       "      <td>Toy Story (1995)</td>\n",
       "      <td>Adventure|Animation|Children|Comedy|Fantasy</td>\n",
       "    </tr>\n",
       "    <tr>\n",
       "      <th>1</th>\n",
       "      <td>2</td>\n",
       "      <td>Jumanji (1995)</td>\n",
       "      <td>Adventure|Children|Fantasy</td>\n",
       "    </tr>\n",
       "    <tr>\n",
       "      <th>2</th>\n",
       "      <td>3</td>\n",
       "      <td>Grumpier Old Men (1995)</td>\n",
       "      <td>Comedy|Romance</td>\n",
       "    </tr>\n",
       "    <tr>\n",
       "      <th>3</th>\n",
       "      <td>4</td>\n",
       "      <td>Waiting to Exhale (1995)</td>\n",
       "      <td>Comedy|Drama|Romance</td>\n",
       "    </tr>\n",
       "    <tr>\n",
       "      <th>4</th>\n",
       "      <td>5</td>\n",
       "      <td>Father of the Bride Part II (1995)</td>\n",
       "      <td>Comedy</td>\n",
       "    </tr>\n",
       "  </tbody>\n",
       "</table>\n",
       "</div>"
      ],
      "text/plain": [
       "   movieId                               title  \\\n",
       "0        1                    Toy Story (1995)   \n",
       "1        2                      Jumanji (1995)   \n",
       "2        3             Grumpier Old Men (1995)   \n",
       "3        4            Waiting to Exhale (1995)   \n",
       "4        5  Father of the Bride Part II (1995)   \n",
       "\n",
       "                                        genres  \n",
       "0  Adventure|Animation|Children|Comedy|Fantasy  \n",
       "1                   Adventure|Children|Fantasy  \n",
       "2                               Comedy|Romance  \n",
       "3                         Comedy|Drama|Romance  \n",
       "4                                       Comedy  "
      ]
     },
     "execution_count": 3,
     "metadata": {},
     "output_type": "execute_result"
    }
   ],
   "source": [
    "movies = pd.read_csv('data//25M_data//movies.csv')\n",
    "print('movies.shape : ',movies.shape)\n",
    "movies.head()"
   ]
  },
  {
   "cell_type": "code",
   "execution_count": 90,
   "id": "93fb15e1",
   "metadata": {},
   "outputs": [
    {
     "data": {
      "text/plain": [
       "Index(['userId', 'movieId', 'rating', 'timestamp'], dtype='object')"
      ]
     },
     "execution_count": 90,
     "metadata": {},
     "output_type": "execute_result"
    }
   ],
   "source": [
    "ratings.columns"
   ]
  },
  {
   "cell_type": "code",
   "execution_count": 4,
   "id": "4f885232",
   "metadata": {
    "scrolled": false
   },
   "outputs": [
    {
     "name": "stdout",
     "output_type": "stream",
     "text": [
      "ratings.shape :  (25000095, 3)\n"
     ]
    },
    {
     "data": {
      "text/html": [
       "<div>\n",
       "<style scoped>\n",
       "    .dataframe tbody tr th:only-of-type {\n",
       "        vertical-align: middle;\n",
       "    }\n",
       "\n",
       "    .dataframe tbody tr th {\n",
       "        vertical-align: top;\n",
       "    }\n",
       "\n",
       "    .dataframe thead th {\n",
       "        text-align: right;\n",
       "    }\n",
       "</style>\n",
       "<table border=\"1\" class=\"dataframe\">\n",
       "  <thead>\n",
       "    <tr style=\"text-align: right;\">\n",
       "      <th></th>\n",
       "      <th>userId</th>\n",
       "      <th>movieId</th>\n",
       "      <th>rating</th>\n",
       "    </tr>\n",
       "  </thead>\n",
       "  <tbody>\n",
       "    <tr>\n",
       "      <th>0</th>\n",
       "      <td>1</td>\n",
       "      <td>296</td>\n",
       "      <td>5.0</td>\n",
       "    </tr>\n",
       "    <tr>\n",
       "      <th>1</th>\n",
       "      <td>1</td>\n",
       "      <td>306</td>\n",
       "      <td>3.5</td>\n",
       "    </tr>\n",
       "    <tr>\n",
       "      <th>2</th>\n",
       "      <td>1</td>\n",
       "      <td>307</td>\n",
       "      <td>5.0</td>\n",
       "    </tr>\n",
       "    <tr>\n",
       "      <th>3</th>\n",
       "      <td>1</td>\n",
       "      <td>665</td>\n",
       "      <td>5.0</td>\n",
       "    </tr>\n",
       "    <tr>\n",
       "      <th>4</th>\n",
       "      <td>1</td>\n",
       "      <td>899</td>\n",
       "      <td>3.5</td>\n",
       "    </tr>\n",
       "  </tbody>\n",
       "</table>\n",
       "</div>"
      ],
      "text/plain": [
       "   userId  movieId  rating\n",
       "0       1      296     5.0\n",
       "1       1      306     3.5\n",
       "2       1      307     5.0\n",
       "3       1      665     5.0\n",
       "4       1      899     3.5"
      ]
     },
     "execution_count": 4,
     "metadata": {},
     "output_type": "execute_result"
    }
   ],
   "source": [
    "ratings = pd.read_csv('data//25M_data//ratings.csv',usecols=['userId', 'movieId', 'rating'])\n",
    "print('ratings.shape : ',ratings.shape)\n",
    "ratings.head()"
   ]
  },
  {
   "cell_type": "code",
   "execution_count": 5,
   "id": "9fb43e65",
   "metadata": {},
   "outputs": [
    {
     "name": "stdout",
     "output_type": "stream",
     "text": [
      "<class 'pandas.core.frame.DataFrame'>\n",
      "RangeIndex: 25000095 entries, 0 to 25000094\n",
      "Data columns (total 3 columns):\n",
      " #   Column   Dtype  \n",
      "---  ------   -----  \n",
      " 0   userId   int64  \n",
      " 1   movieId  int64  \n",
      " 2   rating   float64\n",
      "dtypes: float64(1), int64(2)\n",
      "memory usage: 572.2 MB\n"
     ]
    }
   ],
   "source": [
    "ratings.info()"
   ]
  },
  {
   "cell_type": "code",
   "execution_count": 74,
   "id": "ce81d651",
   "metadata": {},
   "outputs": [
    {
     "data": {
      "text/plain": [
       "Index(['userId', 'movieId', 'rating', 'timestamp'], dtype='object')"
      ]
     },
     "execution_count": 74,
     "metadata": {},
     "output_type": "execute_result"
    }
   ],
   "source": [
    "ratings.columns"
   ]
  },
  {
   "cell_type": "code",
   "execution_count": 5,
   "id": "f58546b9",
   "metadata": {
    "scrolled": true
   },
   "outputs": [
    {
     "data": {
      "text/plain": [
       "4.0    6639798\n",
       "3.0    4896928\n",
       "5.0    3612474\n",
       "3.5    3177318\n",
       "4.5    2200539\n",
       "2.0    1640868\n",
       "2.5    1262797\n",
       "1.0     776815\n",
       "1.5     399490\n",
       "0.5     393068\n",
       "Name: rating, dtype: int64"
      ]
     },
     "execution_count": 5,
     "metadata": {},
     "output_type": "execute_result"
    }
   ],
   "source": [
    "ratings.rating.value_counts()"
   ]
  },
  {
   "cell_type": "markdown",
   "id": "04a998bc",
   "metadata": {},
   "source": [
    "### Truncating 25M rows "
   ]
  },
  {
   "cell_type": "code",
   "execution_count": 7,
   "id": "3b9c2f10",
   "metadata": {},
   "outputs": [],
   "source": [
    "rat_count_mean = pd.DataFrame(ratings.groupby('movieId')['rating'].agg(['mean','count']).sort_values(by = 'count',ascending=False))"
   ]
  },
  {
   "cell_type": "code",
   "execution_count": 16,
   "id": "b29423c9",
   "metadata": {},
   "outputs": [
    {
     "data": {
      "text/html": [
       "<div>\n",
       "<style scoped>\n",
       "    .dataframe tbody tr th:only-of-type {\n",
       "        vertical-align: middle;\n",
       "    }\n",
       "\n",
       "    .dataframe tbody tr th {\n",
       "        vertical-align: top;\n",
       "    }\n",
       "\n",
       "    .dataframe thead th {\n",
       "        text-align: right;\n",
       "    }\n",
       "</style>\n",
       "<table border=\"1\" class=\"dataframe\">\n",
       "  <thead>\n",
       "    <tr style=\"text-align: right;\">\n",
       "      <th></th>\n",
       "      <th>mean</th>\n",
       "      <th>count</th>\n",
       "    </tr>\n",
       "    <tr>\n",
       "      <th>movieId</th>\n",
       "      <th></th>\n",
       "      <th></th>\n",
       "    </tr>\n",
       "  </thead>\n",
       "  <tbody>\n",
       "    <tr>\n",
       "      <th>356</th>\n",
       "      <td>4.048011</td>\n",
       "      <td>81491</td>\n",
       "    </tr>\n",
       "    <tr>\n",
       "      <th>318</th>\n",
       "      <td>4.413576</td>\n",
       "      <td>81482</td>\n",
       "    </tr>\n",
       "    <tr>\n",
       "      <th>296</th>\n",
       "      <td>4.188912</td>\n",
       "      <td>79672</td>\n",
       "    </tr>\n",
       "    <tr>\n",
       "      <th>593</th>\n",
       "      <td>4.151342</td>\n",
       "      <td>74127</td>\n",
       "    </tr>\n",
       "    <tr>\n",
       "      <th>2571</th>\n",
       "      <td>4.154099</td>\n",
       "      <td>72674</td>\n",
       "    </tr>\n",
       "    <tr>\n",
       "      <th>...</th>\n",
       "      <td>...</td>\n",
       "      <td>...</td>\n",
       "    </tr>\n",
       "    <tr>\n",
       "      <th>167308</th>\n",
       "      <td>5.000000</td>\n",
       "      <td>1</td>\n",
       "    </tr>\n",
       "    <tr>\n",
       "      <th>167326</th>\n",
       "      <td>2.000000</td>\n",
       "      <td>1</td>\n",
       "    </tr>\n",
       "    <tr>\n",
       "      <th>167336</th>\n",
       "      <td>2.500000</td>\n",
       "      <td>1</td>\n",
       "    </tr>\n",
       "    <tr>\n",
       "      <th>167338</th>\n",
       "      <td>1.000000</td>\n",
       "      <td>1</td>\n",
       "    </tr>\n",
       "    <tr>\n",
       "      <th>209171</th>\n",
       "      <td>3.000000</td>\n",
       "      <td>1</td>\n",
       "    </tr>\n",
       "  </tbody>\n",
       "</table>\n",
       "<p>59047 rows × 2 columns</p>\n",
       "</div>"
      ],
      "text/plain": [
       "             mean  count\n",
       "movieId                 \n",
       "356      4.048011  81491\n",
       "318      4.413576  81482\n",
       "296      4.188912  79672\n",
       "593      4.151342  74127\n",
       "2571     4.154099  72674\n",
       "...           ...    ...\n",
       "167308   5.000000      1\n",
       "167326   2.000000      1\n",
       "167336   2.500000      1\n",
       "167338   1.000000      1\n",
       "209171   3.000000      1\n",
       "\n",
       "[59047 rows x 2 columns]"
      ]
     },
     "execution_count": 16,
     "metadata": {},
     "output_type": "execute_result"
    }
   ],
   "source": [
    "rat_count_mean"
   ]
  },
  {
   "cell_type": "code",
   "execution_count": 33,
   "id": "8784ab0b",
   "metadata": {
    "scrolled": true
   },
   "outputs": [
    {
     "data": {
      "text/plain": [
       "count    59047.000000\n",
       "mean       423.393144\n",
       "std       2477.885821\n",
       "min          1.000000\n",
       "25%          2.000000\n",
       "50%          6.000000\n",
       "75%         36.000000\n",
       "max      81491.000000\n",
       "Name: count, dtype: float64"
      ]
     },
     "execution_count": 33,
     "metadata": {},
     "output_type": "execute_result"
    }
   ],
   "source": [
    "rat_count_mean['count'].describe()"
   ]
  },
  {
   "cell_type": "code",
   "execution_count": 8,
   "id": "1b075bca",
   "metadata": {},
   "outputs": [],
   "source": [
    "rat_count_mean_30 = rat_count_mean[rat_count_mean['count']>5000]"
   ]
  },
  {
   "cell_type": "code",
   "execution_count": 47,
   "id": "8f85f5ef",
   "metadata": {},
   "outputs": [
    {
     "data": {
      "text/plain": [
       "(62423, 3)"
      ]
     },
     "execution_count": 47,
     "metadata": {},
     "output_type": "execute_result"
    }
   ],
   "source": [
    "movies.shape"
   ]
  },
  {
   "cell_type": "code",
   "execution_count": 9,
   "id": "02502aa9",
   "metadata": {
    "scrolled": true
   },
   "outputs": [
    {
     "data": {
      "text/plain": [
       "(1223, 2)"
      ]
     },
     "execution_count": 9,
     "metadata": {},
     "output_type": "execute_result"
    }
   ],
   "source": [
    "rat_count_mean_30.shape"
   ]
  },
  {
   "cell_type": "code",
   "execution_count": 92,
   "id": "6ccb003e",
   "metadata": {
    "scrolled": false
   },
   "outputs": [
    {
     "name": "stdout",
     "output_type": "stream",
     "text": [
      "<class 'pandas.core.frame.DataFrame'>\n",
      "RangeIndex: 25000095 entries, 0 to 25000094\n",
      "Data columns (total 3 columns):\n",
      " #   Column   Dtype  \n",
      "---  ------   -----  \n",
      " 0   userId   int64  \n",
      " 1   movieId  int64  \n",
      " 2   rating   float64\n",
      "dtypes: float64(1), int64(2)\n",
      "memory usage: 572.2 MB\n"
     ]
    }
   ],
   "source": [
    "ratings.info()"
   ]
  },
  {
   "cell_type": "code",
   "execution_count": 31,
   "id": "a92588ca",
   "metadata": {},
   "outputs": [
    {
     "data": {
      "text/plain": [
       "Int64Index([   356,    318,    296,    593,   2571,    260,    480,    527,\n",
       "               110,   2959,\n",
       "            ...\n",
       "            167246, 167256, 167264, 167284, 167290, 167308, 167326, 167336,\n",
       "            167338, 209171],\n",
       "           dtype='int64', name='movieId', length=59047)"
      ]
     },
     "execution_count": 31,
     "metadata": {},
     "output_type": "execute_result"
    }
   ],
   "source": [
    "rat_count_mean.index"
   ]
  },
  {
   "cell_type": "code",
   "execution_count": 10,
   "id": "43688373",
   "metadata": {
    "scrolled": true
   },
   "outputs": [
    {
     "name": "stdout",
     "output_type": "stream",
     "text": [
      "<class 'pandas.core.frame.DataFrame'>\n",
      "Int64Index: 16358020 entries, 0 to 25000093\n",
      "Data columns (total 3 columns):\n",
      " #   Column   Dtype  \n",
      "---  ------   -----  \n",
      " 0   userId   int64  \n",
      " 1   movieId  int64  \n",
      " 2   rating   float64\n",
      "dtypes: float64(1), int64(2)\n",
      "memory usage: 499.2 MB\n"
     ]
    }
   ],
   "source": [
    "ratings[ratings.movieId.isin(rat_count_mean_30.index)].info()"
   ]
  },
  {
   "cell_type": "code",
   "execution_count": 96,
   "id": "954999e0",
   "metadata": {},
   "outputs": [],
   "source": [
    "rat_count_mean_30_3_5 = rat_count_mean_30[rat_count_mean_30['mean']>3.5]"
   ]
  },
  {
   "cell_type": "code",
   "execution_count": 97,
   "id": "35439e9e",
   "metadata": {},
   "outputs": [
    {
     "data": {
      "text/plain": [
       "(752, 2)"
      ]
     },
     "execution_count": 97,
     "metadata": {},
     "output_type": "execute_result"
    }
   ],
   "source": [
    "rat_count_mean_30_3_5.shape"
   ]
  },
  {
   "cell_type": "code",
   "execution_count": 11,
   "id": "dd9eb512",
   "metadata": {
    "scrolled": true
   },
   "outputs": [
    {
     "name": "stdout",
     "output_type": "stream",
     "text": [
      "<class 'pandas.core.frame.DataFrame'>\n",
      "Int64Index: 4363679 entries, 0 to 25000090\n",
      "Data columns (total 3 columns):\n",
      " #   Column   Dtype  \n",
      "---  ------   -----  \n",
      " 0   userId   int64  \n",
      " 1   movieId  int64  \n",
      " 2   rating   float64\n",
      "dtypes: float64(1), int64(2)\n",
      "memory usage: 133.2 MB\n"
     ]
    }
   ],
   "source": [
    "ratings[(ratings.movieId.isin(rat_count_mean_30.index)) & (ratings.rating>4)].info()"
   ]
  },
  {
   "cell_type": "code",
   "execution_count": 110,
   "id": "6b1d156e",
   "metadata": {},
   "outputs": [
    {
     "data": {
      "text/plain": [
       "162541"
      ]
     },
     "execution_count": 110,
     "metadata": {},
     "output_type": "execute_result"
    }
   ],
   "source": [
    "ratings.userId.nunique()"
   ]
  },
  {
   "cell_type": "code",
   "execution_count": 18,
   "id": "a286ae7c",
   "metadata": {},
   "outputs": [],
   "source": [
    "user = pd.DataFrame(ratings.groupby('userId')['rating'].agg('count')).sort_values('rating')"
   ]
  },
  {
   "cell_type": "code",
   "execution_count": 22,
   "id": "399616b0",
   "metadata": {},
   "outputs": [
    {
     "data": {
      "text/html": [
       "<div>\n",
       "<style scoped>\n",
       "    .dataframe tbody tr th:only-of-type {\n",
       "        vertical-align: middle;\n",
       "    }\n",
       "\n",
       "    .dataframe tbody tr th {\n",
       "        vertical-align: top;\n",
       "    }\n",
       "\n",
       "    .dataframe thead th {\n",
       "        text-align: right;\n",
       "    }\n",
       "</style>\n",
       "<table border=\"1\" class=\"dataframe\">\n",
       "  <thead>\n",
       "    <tr style=\"text-align: right;\">\n",
       "      <th></th>\n",
       "      <th>rating</th>\n",
       "    </tr>\n",
       "    <tr>\n",
       "      <th>userId</th>\n",
       "      <th></th>\n",
       "    </tr>\n",
       "  </thead>\n",
       "  <tbody>\n",
       "    <tr>\n",
       "      <th>56219</th>\n",
       "      <td>20</td>\n",
       "    </tr>\n",
       "    <tr>\n",
       "      <th>87801</th>\n",
       "      <td>20</td>\n",
       "    </tr>\n",
       "    <tr>\n",
       "      <th>129589</th>\n",
       "      <td>20</td>\n",
       "    </tr>\n",
       "    <tr>\n",
       "      <th>57943</th>\n",
       "      <td>20</td>\n",
       "    </tr>\n",
       "    <tr>\n",
       "      <th>129586</th>\n",
       "      <td>20</td>\n",
       "    </tr>\n",
       "  </tbody>\n",
       "</table>\n",
       "</div>"
      ],
      "text/plain": [
       "        rating\n",
       "userId        \n",
       "56219       20\n",
       "87801       20\n",
       "129589      20\n",
       "57943       20\n",
       "129586      20"
      ]
     },
     "execution_count": 22,
     "metadata": {},
     "output_type": "execute_result"
    }
   ],
   "source": [
    "user.head()"
   ]
  },
  {
   "cell_type": "code",
   "execution_count": 19,
   "id": "e0aa6618",
   "metadata": {
    "scrolled": true
   },
   "outputs": [
    {
     "data": {
      "text/plain": [
       "count    162541.000000\n",
       "mean        153.807932\n",
       "std         268.047590\n",
       "min          20.000000\n",
       "25%          36.000000\n",
       "50%          71.000000\n",
       "75%         162.000000\n",
       "max       32202.000000\n",
       "Name: rating, dtype: float64"
      ]
     },
     "execution_count": 19,
     "metadata": {},
     "output_type": "execute_result"
    }
   ],
   "source": [
    "user.rating.describe()"
   ]
  },
  {
   "cell_type": "code",
   "execution_count": 21,
   "id": "c28abfd5",
   "metadata": {
    "scrolled": true
   },
   "outputs": [
    {
     "name": "stdout",
     "output_type": "stream",
     "text": [
      "(162541, 1)\n",
      "(63102, 1)\n"
     ]
    }
   ],
   "source": [
    "print(user.shape)\n",
    "print(user[user.rating>100].shape)"
   ]
  },
  {
   "cell_type": "code",
   "execution_count": 24,
   "id": "6b32070d",
   "metadata": {},
   "outputs": [],
   "source": [
    "user_100 = user[user.rating>100]"
   ]
  },
  {
   "cell_type": "code",
   "execution_count": 25,
   "id": "5dd476c7",
   "metadata": {
    "scrolled": true
   },
   "outputs": [
    {
     "name": "stdout",
     "output_type": "stream",
     "text": [
      "<class 'pandas.core.frame.DataFrame'>\n",
      "Int64Index: 3122524 entries, 72 to 25000090\n",
      "Data columns (total 3 columns):\n",
      " #   Column   Dtype  \n",
      "---  ------   -----  \n",
      " 0   userId   int64  \n",
      " 1   movieId  int64  \n",
      " 2   rating   float64\n",
      "dtypes: float64(1), int64(2)\n",
      "memory usage: 95.3 MB\n"
     ]
    }
   ],
   "source": [
    "#movies seen by more than 5000 users, i.e 1223 movies\n",
    "#ratings>4\n",
    "#take users who have seen more 100 movies\n",
    "#95.3mb\n",
    "ratings[(ratings.movieId.isin(rat_count_mean_30.index)) & (ratings.rating>4) & (ratings.userId.isin(user_100.index))].info()"
   ]
  },
  {
   "cell_type": "code",
   "execution_count": null,
   "id": "bb661738",
   "metadata": {},
   "outputs": [],
   "source": [
    "#### Artifacts"
   ]
  },
  {
   "cell_type": "code",
   "execution_count": 27,
   "id": "9a0f4339",
   "metadata": {},
   "outputs": [],
   "source": [
    "ratings_out = ratings[(ratings.movieId.isin(rat_count_mean_30.index)) & (ratings.rating>4) & (ratings.userId.isin(user_100.index))]\n",
    "ratings_out.to_csv(\"artifacts//ratings.csv\",index=False)"
   ]
  },
  {
   "cell_type": "code",
   "execution_count": 28,
   "id": "30c62366",
   "metadata": {
    "scrolled": true
   },
   "outputs": [
    {
     "name": "stdout",
     "output_type": "stream",
     "text": [
      "<class 'pandas.core.frame.DataFrame'>\n",
      "Int64Index: 1223 entries, 0 to 48302\n",
      "Data columns (total 3 columns):\n",
      " #   Column   Non-Null Count  Dtype \n",
      "---  ------   --------------  ----- \n",
      " 0   movieId  1223 non-null   int64 \n",
      " 1   title    1223 non-null   object\n",
      " 2   genres   1223 non-null   object\n",
      "dtypes: int64(1), object(2)\n",
      "memory usage: 38.2+ KB\n"
     ]
    }
   ],
   "source": [
    "#movies_out = \n",
    "movies[(movies.movieId.isin(rat_count_mean_30.index))].info()"
   ]
  },
  {
   "cell_type": "code",
   "execution_count": 33,
   "id": "2b326528",
   "metadata": {},
   "outputs": [],
   "source": [
    "movies_out = movies[(movies.movieId.isin(rat_count_mean_30.index))]\n",
    "movies_out['title'] = movies_out[\"title\"].apply(clean_title)\n",
    "movies_out.to_csv(\"artifacts//movies.csv\",index=False)"
   ]
  },
  {
   "cell_type": "code",
   "execution_count": 106,
   "id": "2e85bd99",
   "metadata": {},
   "outputs": [
    {
     "data": {
      "text/plain": [
       "<AxesSubplot:ylabel='Density'>"
      ]
     },
     "execution_count": 106,
     "metadata": {},
     "output_type": "execute_result"
    },
    {
     "data": {
      "image/png": "[encoded data removed]",
      "text/plain": [
       "<Figure size 432x288 with 1 Axes>"
      ]
     },
     "metadata": {
      "needs_background": "light"
     },
     "output_type": "display_data"
    }
   ],
   "source": [
    "sns.distplot(ratings.userId.value_counts().values)"
   ]
  },
  {
   "cell_type": "code",
   "execution_count": 27,
   "id": "37d6b547",
   "metadata": {},
   "outputs": [
    {
     "data": {
      "text/plain": [
       "count    14531.000000\n",
       "mean      1013.915973\n",
       "std       4322.738365\n",
       "min          1.000000\n",
       "25%          2.000000\n",
       "50%          9.000000\n",
       "75%        163.500000\n",
       "max      81491.000000\n",
       "Name: count, dtype: float64"
      ]
     },
     "execution_count": 27,
     "metadata": {},
     "output_type": "execute_result"
    }
   ],
   "source": [
    "rat_count_mean_3_5['count'].describe()"
   ]
  },
  {
   "cell_type": "code",
   "execution_count": 26,
   "id": "b424e346",
   "metadata": {},
   "outputs": [
    {
     "data": {
      "text/plain": [
       "<AxesSubplot:xlabel='count', ylabel='Density'>"
      ]
     },
     "execution_count": 26,
     "metadata": {},
     "output_type": "execute_result"
    },
    {
     "data": {
      "image/png": "[encoded data removed]",
      "text/plain": [
       "<Figure size 432x288 with 1 Axes>"
      ]
     },
     "metadata": {
      "needs_background": "light"
     },
     "output_type": "display_data"
    }
   ],
   "source": [
    "sns.distplot(rat_count_mean_3_5['count'])"
   ]
  },
  {
   "cell_type": "code",
   "execution_count": 15,
   "id": "7bc2d492",
   "metadata": {},
   "outputs": [],
   "source": [
    "#data = pd.read_csv(\"ratings.dat\",sep='::',encoding ='latin-1')"
   ]
  },
  {
   "cell_type": "markdown",
   "id": "05b68ccc",
   "metadata": {},
   "source": [
    "# Clean Title"
   ]
  },
  {
   "cell_type": "code",
   "execution_count": 32,
   "id": "d8cbea6d",
   "metadata": {},
   "outputs": [],
   "source": [
    "def clean_title(title):\n",
    "    return re.sub(\"[^A-Za-z0-9 ]\",\"\",title) # replace anything that is not alphabet or number"
   ]
  },
  {
   "cell_type": "code",
   "execution_count": 77,
   "id": "a71f138d",
   "metadata": {},
   "outputs": [],
   "source": [
    "movies['clean_title'] = movies[\"title\"].apply(clean_title)"
   ]
  },
  {
   "cell_type": "code",
   "execution_count": 78,
   "id": "efaf05fe",
   "metadata": {
    "scrolled": true
   },
   "outputs": [
    {
     "data": {
      "text/html": [
       "<div>\n",
       "<style scoped>\n",
       "    .dataframe tbody tr th:only-of-type {\n",
       "        vertical-align: middle;\n",
       "    }\n",
       "\n",
       "    .dataframe tbody tr th {\n",
       "        vertical-align: top;\n",
       "    }\n",
       "\n",
       "    .dataframe thead th {\n",
       "        text-align: right;\n",
       "    }\n",
       "</style>\n",
       "<table border=\"1\" class=\"dataframe\">\n",
       "  <thead>\n",
       "    <tr style=\"text-align: right;\">\n",
       "      <th></th>\n",
       "      <th>movieId</th>\n",
       "      <th>title</th>\n",
       "      <th>genres</th>\n",
       "      <th>clean_title</th>\n",
       "    </tr>\n",
       "  </thead>\n",
       "  <tbody>\n",
       "    <tr>\n",
       "      <th>0</th>\n",
       "      <td>1</td>\n",
       "      <td>Toy Story (1995)</td>\n",
       "      <td>Adventure|Animation|Children|Comedy|Fantasy</td>\n",
       "      <td>Toy Story 1995</td>\n",
       "    </tr>\n",
       "    <tr>\n",
       "      <th>1</th>\n",
       "      <td>2</td>\n",
       "      <td>Jumanji (1995)</td>\n",
       "      <td>Adventure|Children|Fantasy</td>\n",
       "      <td>Jumanji 1995</td>\n",
       "    </tr>\n",
       "  </tbody>\n",
       "</table>\n",
       "</div>"
      ],
      "text/plain": [
       "   movieId             title                                       genres  \\\n",
       "0        1  Toy Story (1995)  Adventure|Animation|Children|Comedy|Fantasy   \n",
       "1        2    Jumanji (1995)                   Adventure|Children|Fantasy   \n",
       "\n",
       "      clean_title  \n",
       "0  Toy Story 1995  \n",
       "1    Jumanji 1995  "
      ]
     },
     "execution_count": 78,
     "metadata": {},
     "output_type": "execute_result"
    }
   ],
   "source": [
    "movies.head(2)"
   ]
  },
  {
   "cell_type": "markdown",
   "id": "636774ad",
   "metadata": {},
   "source": [
    "# Creating Tfidf matrix"
   ]
  },
  {
   "cell_type": "code",
   "execution_count": 79,
   "id": "021d87f4",
   "metadata": {},
   "outputs": [],
   "source": [
    "vectorizer = TfidfVectorizer(ngram_range=(1,2)) # set ngram to(1,2) i.e 'toy','story','toy story'\n",
    "tfidf = vectorizer.fit_transform(movies[\"clean_title\"])"
   ]
  },
  {
   "cell_type": "code",
   "execution_count": 80,
   "id": "b1946520",
   "metadata": {},
   "outputs": [
    {
     "data": {
      "text/plain": [
       "<62423x170073 sparse matrix of type '<class 'numpy.float64'>'\n",
       "\twith 446566 stored elements in Compressed Sparse Row format>"
      ]
     },
     "execution_count": 80,
     "metadata": {},
     "output_type": "execute_result"
    }
   ],
   "source": [
    "tfidf"
   ]
  },
  {
   "cell_type": "code",
   "execution_count": 41,
   "id": "162e53b9",
   "metadata": {},
   "outputs": [],
   "source": [
    "bin_dict = {}\n",
    "bin_dict['vectorizer'] = vectorizer\n",
    "bin_dict['tfidf'] = tfidf\n"
   ]
  },
  {
   "cell_type": "code",
   "execution_count": 43,
   "id": "109d8ced",
   "metadata": {},
   "outputs": [
    {
     "data": {
      "text/plain": [
       "TfidfVectorizer(ngram_range=(1, 2))"
      ]
     },
     "execution_count": 43,
     "metadata": {},
     "output_type": "execute_result"
    }
   ],
   "source": [
    "bin_dict['vectorizer']"
   ]
  },
  {
   "cell_type": "markdown",
   "id": "d53fa2b1",
   "metadata": {},
   "source": [
    "# Search Function"
   ]
  },
  {
   "cell_type": "code",
   "execution_count": 81,
   "id": "e5b9239a",
   "metadata": {},
   "outputs": [],
   "source": [
    "def search(title):\n",
    "    title = clean_title(title)\n",
    "    query_vector = vectorizer.transform([title]) # transform words to numbers\n",
    "    similarity = cosine_similarity(query_vector,tfidf).flatten() # find cosine similarity\n",
    "    indices = np.argpartition(similarity,-5)[-5:] # last 5\n",
    "    results = movies.iloc[indices][::-1] # rearrange to give top 5\n",
    "    return results"
   ]
  },
  {
   "cell_type": "code",
   "execution_count": 82,
   "id": "31d3badd",
   "metadata": {
    "scrolled": true
   },
   "outputs": [
    {
     "data": {
      "text/html": [
       "<div>\n",
       "<style scoped>\n",
       "    .dataframe tbody tr th:only-of-type {\n",
       "        vertical-align: middle;\n",
       "    }\n",
       "\n",
       "    .dataframe tbody tr th {\n",
       "        vertical-align: top;\n",
       "    }\n",
       "\n",
       "    .dataframe thead th {\n",
       "        text-align: right;\n",
       "    }\n",
       "</style>\n",
       "<table border=\"1\" class=\"dataframe\">\n",
       "  <thead>\n",
       "    <tr style=\"text-align: right;\">\n",
       "      <th></th>\n",
       "      <th>movieId</th>\n",
       "      <th>title</th>\n",
       "      <th>genres</th>\n",
       "      <th>clean_title</th>\n",
       "    </tr>\n",
       "  </thead>\n",
       "  <tbody>\n",
       "    <tr>\n",
       "      <th>14813</th>\n",
       "      <td>78499</td>\n",
       "      <td>Toy Story 3 (2010)</td>\n",
       "      <td>Adventure|Animation|Children|Comedy|Fantasy|IMAX</td>\n",
       "      <td>Toy Story 3 2010</td>\n",
       "    </tr>\n",
       "    <tr>\n",
       "      <th>3021</th>\n",
       "      <td>3114</td>\n",
       "      <td>Toy Story 2 (1999)</td>\n",
       "      <td>Adventure|Animation|Children|Comedy|Fantasy</td>\n",
       "      <td>Toy Story 2 1999</td>\n",
       "    </tr>\n",
       "    <tr>\n",
       "      <th>4823</th>\n",
       "      <td>4929</td>\n",
       "      <td>Toy, The (1982)</td>\n",
       "      <td>Comedy</td>\n",
       "      <td>Toy The 1982</td>\n",
       "    </tr>\n",
       "    <tr>\n",
       "      <th>0</th>\n",
       "      <td>1</td>\n",
       "      <td>Toy Story (1995)</td>\n",
       "      <td>Adventure|Animation|Children|Comedy|Fantasy</td>\n",
       "      <td>Toy Story 1995</td>\n",
       "    </tr>\n",
       "    <tr>\n",
       "      <th>59767</th>\n",
       "      <td>201588</td>\n",
       "      <td>Toy Story 4 (2019)</td>\n",
       "      <td>Adventure|Animation|Children|Comedy</td>\n",
       "      <td>Toy Story 4 2019</td>\n",
       "    </tr>\n",
       "  </tbody>\n",
       "</table>\n",
       "</div>"
      ],
      "text/plain": [
       "       movieId               title  \\\n",
       "14813    78499  Toy Story 3 (2010)   \n",
       "3021      3114  Toy Story 2 (1999)   \n",
       "4823      4929     Toy, The (1982)   \n",
       "0            1    Toy Story (1995)   \n",
       "59767   201588  Toy Story 4 (2019)   \n",
       "\n",
       "                                                 genres       clean_title  \n",
       "14813  Adventure|Animation|Children|Comedy|Fantasy|IMAX  Toy Story 3 2010  \n",
       "3021        Adventure|Animation|Children|Comedy|Fantasy  Toy Story 2 1999  \n",
       "4823                                             Comedy      Toy The 1982  \n",
       "0           Adventure|Animation|Children|Comedy|Fantasy    Toy Story 1995  \n",
       "59767               Adventure|Animation|Children|Comedy  Toy Story 4 2019  "
      ]
     },
     "execution_count": 82,
     "metadata": {},
     "output_type": "execute_result"
    }
   ],
   "source": [
    "search(title='toy s')"
   ]
  },
  {
   "cell_type": "markdown",
   "id": "3029cf53",
   "metadata": {},
   "source": [
    "# Building An Iteractive Search Box With Jupyter"
   ]
  },
  {
   "cell_type": "code",
   "execution_count": 83,
   "id": "64170a9d",
   "metadata": {},
   "outputs": [],
   "source": [
    "movie_input = widgets.Text(values = \"Toy Story\", description = 'Movie Title: ', disabled = False)"
   ]
  },
  {
   "cell_type": "code",
   "execution_count": 84,
   "id": "d5ada4a8",
   "metadata": {
    "scrolled": true
   },
   "outputs": [
    {
     "data": {
      "application/vnd.jupyter.widget-view+json": {
       "model_id": "2f567395ed864ec78ac4724df5ff2234",
       "version_major": 2,
       "version_minor": 0
      },
      "text/plain": [
       "Text(value='', description='Movie Title: ')"
      ]
     },
     "metadata": {},
     "output_type": "display_data"
    }
   ],
   "source": [
    "movie_input"
   ]
  },
  {
   "cell_type": "code",
   "execution_count": 85,
   "id": "e391e548",
   "metadata": {
    "scrolled": true
   },
   "outputs": [
    {
     "data": {
      "application/vnd.jupyter.widget-view+json": {
       "model_id": "2f567395ed864ec78ac4724df5ff2234",
       "version_major": 2,
       "version_minor": 0
      },
      "text/plain": [
       "Text(value='', description='Movie Title: ')"
      ]
     },
     "metadata": {},
     "output_type": "display_data"
    },
    {
     "data": {
      "application/vnd.jupyter.widget-view+json": {
       "model_id": "966d0f9671e542b1a64cf54294819c0d",
       "version_major": 2,
       "version_minor": 0
      },
      "text/plain": [
       "Output()"
      ]
     },
     "metadata": {},
     "output_type": "display_data"
    }
   ],
   "source": [
    "movie_list = widgets.Output()\n",
    "\n",
    "def on_type(data):\n",
    "    with movie_list:\n",
    "        movie_list.clear_output()\n",
    "        title = data['new']\n",
    "        title =  clean_title(title)\n",
    "        if len(title) > 5 :\n",
    "            display(search(title))\n",
    "            \n",
    "movie_input.observe(on_type,names='value')\n",
    "\n",
    "display(movie_input,movie_list)"
   ]
  },
  {
   "cell_type": "markdown",
   "id": "3c5ce440",
   "metadata": {},
   "source": [
    "# Collaborative Filtering"
   ]
  },
  {
   "cell_type": "code",
   "execution_count": 50,
   "id": "dae39f5c",
   "metadata": {},
   "outputs": [
    {
     "data": {
      "text/plain": [
       "Index(['userId', 'movieId', 'rating', 'timestamp'], dtype='object')"
      ]
     },
     "execution_count": 50,
     "metadata": {},
     "output_type": "execute_result"
    }
   ],
   "source": [
    "ratings.columns"
   ]
  },
  {
   "cell_type": "code",
   "execution_count": 65,
   "id": "449db4e1",
   "metadata": {},
   "outputs": [],
   "source": [
    "movie_id = 318\n",
    "del movie_id"
   ]
  },
  {
   "cell_type": "code",
   "execution_count": 86,
   "id": "4acbd22f",
   "metadata": {
    "scrolled": true
   },
   "outputs": [
    {
     "data": {
      "text/html": [
       "<div>\n",
       "<style scoped>\n",
       "    .dataframe tbody tr th:only-of-type {\n",
       "        vertical-align: middle;\n",
       "    }\n",
       "\n",
       "    .dataframe tbody tr th {\n",
       "        vertical-align: top;\n",
       "    }\n",
       "\n",
       "    .dataframe thead th {\n",
       "        text-align: right;\n",
       "    }\n",
       "</style>\n",
       "<table border=\"1\" class=\"dataframe\">\n",
       "  <thead>\n",
       "    <tr style=\"text-align: right;\">\n",
       "      <th></th>\n",
       "      <th>clean_title</th>\n",
       "      <th>genres</th>\n",
       "      <th>score</th>\n",
       "    </tr>\n",
       "  </thead>\n",
       "  <tbody>\n",
       "    <tr>\n",
       "      <th>2063</th>\n",
       "      <td>Avengers The 1998</td>\n",
       "      <td>Action|Adventure</td>\n",
       "      <td>3143.312500</td>\n",
       "    </tr>\n",
       "    <tr>\n",
       "      <th>1337</th>\n",
       "      <td>Star Trek V The Final Frontier 1989</td>\n",
       "      <td>Action|Sci-Fi</td>\n",
       "      <td>40.298878</td>\n",
       "    </tr>\n",
       "    <tr>\n",
       "      <th>1625</th>\n",
       "      <td>Jackal The 1997</td>\n",
       "      <td>Action|Thriller</td>\n",
       "      <td>36.893339</td>\n",
       "    </tr>\n",
       "    <tr>\n",
       "      <th>5760</th>\n",
       "      <td>Die Another Day 2002</td>\n",
       "      <td>Action|Adventure|Thriller</td>\n",
       "      <td>28.784913</td>\n",
       "    </tr>\n",
       "    <tr>\n",
       "      <th>1335</th>\n",
       "      <td>Star Trek The Motion Picture 1979</td>\n",
       "      <td>Adventure|Sci-Fi</td>\n",
       "      <td>22.613759</td>\n",
       "    </tr>\n",
       "    <tr>\n",
       "      <th>12431</th>\n",
       "      <td>Hancock 2008</td>\n",
       "      <td>Action|Adventure|Comedy|Crime|Fantasy</td>\n",
       "      <td>21.325051</td>\n",
       "    </tr>\n",
       "    <tr>\n",
       "      <th>2989</th>\n",
       "      <td>World Is Not Enough The 1999</td>\n",
       "      <td>Action|Adventure|Thriller</td>\n",
       "      <td>19.744425</td>\n",
       "    </tr>\n",
       "    <tr>\n",
       "      <th>168</th>\n",
       "      <td>Hackers 1995</td>\n",
       "      <td>Action|Adventure|Crime|Thriller</td>\n",
       "      <td>18.544617</td>\n",
       "    </tr>\n",
       "    <tr>\n",
       "      <th>1656</th>\n",
       "      <td>Tomorrow Never Dies 1997</td>\n",
       "      <td>Action|Adventure|Thriller</td>\n",
       "      <td>18.257381</td>\n",
       "    </tr>\n",
       "    <tr>\n",
       "      <th>18241</th>\n",
       "      <td>Amazing SpiderMan The 2012</td>\n",
       "      <td>Action|Adventure|Sci-Fi|IMAX</td>\n",
       "      <td>17.859730</td>\n",
       "    </tr>\n",
       "  </tbody>\n",
       "</table>\n",
       "</div>"
      ],
      "text/plain": [
       "                               clean_title  \\\n",
       "2063                     Avengers The 1998   \n",
       "1337   Star Trek V The Final Frontier 1989   \n",
       "1625                       Jackal The 1997   \n",
       "5760                  Die Another Day 2002   \n",
       "1335     Star Trek The Motion Picture 1979   \n",
       "12431                         Hancock 2008   \n",
       "2989          World Is Not Enough The 1999   \n",
       "168                           Hackers 1995   \n",
       "1656              Tomorrow Never Dies 1997   \n",
       "18241           Amazing SpiderMan The 2012   \n",
       "\n",
       "                                      genres        score  \n",
       "2063                        Action|Adventure  3143.312500  \n",
       "1337                           Action|Sci-Fi    40.298878  \n",
       "1625                         Action|Thriller    36.893339  \n",
       "5760               Action|Adventure|Thriller    28.784913  \n",
       "1335                        Adventure|Sci-Fi    22.613759  \n",
       "12431  Action|Adventure|Comedy|Crime|Fantasy    21.325051  \n",
       "2989               Action|Adventure|Thriller    19.744425  \n",
       "168          Action|Adventure|Crime|Thriller    18.544617  \n",
       "1656               Action|Adventure|Thriller    18.257381  \n",
       "18241           Action|Adventure|Sci-Fi|IMAX    17.859730  "
      ]
     },
     "execution_count": 86,
     "metadata": {},
     "output_type": "execute_result"
    }
   ],
   "source": [
    "def find_similar_movies(movie_id):\n",
    "    #get similar users that rated the movie above 4\n",
    "    similar_users = ratings[\n",
    "        (ratings['movieId'] == movie_id) & (ratings['rating']>4)\n",
    "    ][\"userId\"].unique()\n",
    "    \n",
    "    #find other movies they similars users rated above 4\n",
    "    similar_users_recs = ratings[\n",
    "        (ratings[\"userId\"].isin(similar_users)) & (ratings['rating']>4)\n",
    "    ]['movieId']\n",
    "    \n",
    "    #find the percentage of similar_users who liked the  movies particular to that niche i.e movies that a greater than 10% of the users similar to us liked\n",
    "    similar_users_recs = similar_users_recs.value_counts()/len(similar_users)\n",
    "    similar_users_recs = similar_users_recs[similar_users_recs > .1]\n",
    "    \n",
    "    #find how much all_users liked these movies in the niche >10% i.e (including users outside that niche)\n",
    "    all_users = ratings[\n",
    "        (ratings['movieId'].isin(similar_users_recs.index)) & (ratings['rating']>4)\n",
    "    ]\n",
    "    \n",
    "    #find the percentage of all users who liked each movie recommendend\n",
    "    all_users_recs = all_users['movieId'].value_counts()/len(all_users['userId'].unique())\n",
    "    \n",
    "    #combine the percentage of simlar_users_rec and all_users_recs\n",
    "    rec_percentage = pd.concat([similar_users_recs,all_users_recs],axis=1)\n",
    "    rec_percentage.columns = ['similar','all']\n",
    "    \n",
    "    #we want movies that have big bifference between the two numbers\n",
    "    rec_percentage['score'] = rec_percentage['similar']/rec_percentage['all'] \n",
    "    #sort_values\n",
    "    rec_percentage = rec_percentage.sort_values('score',ascending=False)\n",
    "    #get top 10  recommendations\n",
    "    rec_movies =  rec_percentage.head(10).merge(movies,left_index=True , right_on='movieId')[['clean_title','genres','score']]\n",
    "\n",
    "    return rec_movies\n",
    "\n",
    "find_similar_movies(movie_id=2153)"
   ]
  },
  {
   "cell_type": "code",
   "execution_count": 87,
   "id": "820a7a60",
   "metadata": {},
   "outputs": [
    {
     "data": {
      "text/html": [
       "<div>\n",
       "<style scoped>\n",
       "    .dataframe tbody tr th:only-of-type {\n",
       "        vertical-align: middle;\n",
       "    }\n",
       "\n",
       "    .dataframe tbody tr th {\n",
       "        vertical-align: top;\n",
       "    }\n",
       "\n",
       "    .dataframe thead th {\n",
       "        text-align: right;\n",
       "    }\n",
       "</style>\n",
       "<table border=\"1\" class=\"dataframe\">\n",
       "  <thead>\n",
       "    <tr style=\"text-align: right;\">\n",
       "      <th></th>\n",
       "      <th>movieId</th>\n",
       "      <th>title</th>\n",
       "      <th>genres</th>\n",
       "      <th>clean_title</th>\n",
       "    </tr>\n",
       "  </thead>\n",
       "  <tbody>\n",
       "    <tr>\n",
       "      <th>34536</th>\n",
       "      <td>145676</td>\n",
       "      <td>3 Avengers (1964)</td>\n",
       "      <td>(no genres listed)</td>\n",
       "      <td>3 Avengers 1964</td>\n",
       "    </tr>\n",
       "    <tr>\n",
       "      <th>2063</th>\n",
       "      <td>2153</td>\n",
       "      <td>Avengers, The (1998)</td>\n",
       "      <td>Action|Adventure</td>\n",
       "      <td>Avengers The 1998</td>\n",
       "    </tr>\n",
       "    <tr>\n",
       "      <th>17067</th>\n",
       "      <td>89745</td>\n",
       "      <td>Avengers, The (2012)</td>\n",
       "      <td>Action|Adventure|Sci-Fi|IMAX</td>\n",
       "      <td>Avengers The 2012</td>\n",
       "    </tr>\n",
       "    <tr>\n",
       "      <th>40636</th>\n",
       "      <td>159920</td>\n",
       "      <td>Shaolin Avengers (1994)</td>\n",
       "      <td>Action</td>\n",
       "      <td>Shaolin Avengers 1994</td>\n",
       "    </tr>\n",
       "    <tr>\n",
       "      <th>45394</th>\n",
       "      <td>170297</td>\n",
       "      <td>Ultimate Avengers 2 (2006)</td>\n",
       "      <td>Action|Animation|Sci-Fi</td>\n",
       "      <td>Ultimate Avengers 2 2006</td>\n",
       "    </tr>\n",
       "  </tbody>\n",
       "</table>\n",
       "</div>"
      ],
      "text/plain": [
       "       movieId                       title                        genres  \\\n",
       "34536   145676           3 Avengers (1964)            (no genres listed)   \n",
       "2063      2153        Avengers, The (1998)              Action|Adventure   \n",
       "17067    89745        Avengers, The (2012)  Action|Adventure|Sci-Fi|IMAX   \n",
       "40636   159920     Shaolin Avengers (1994)                        Action   \n",
       "45394   170297  Ultimate Avengers 2 (2006)       Action|Animation|Sci-Fi   \n",
       "\n",
       "                    clean_title  \n",
       "34536           3 Avengers 1964  \n",
       "2063          Avengers The 1998  \n",
       "17067         Avengers The 2012  \n",
       "40636     Shaolin Avengers 1994  \n",
       "45394  Ultimate Avengers 2 2006  "
      ]
     },
     "execution_count": 87,
     "metadata": {},
     "output_type": "execute_result"
    }
   ],
   "source": [
    "search('Avengers')"
   ]
  },
  {
   "cell_type": "markdown",
   "id": "e557586a",
   "metadata": {},
   "source": [
    "# Creating an iteractive recommendation widgets"
   ]
  },
  {
   "cell_type": "code",
   "execution_count": 88,
   "id": "d5b5967e",
   "metadata": {
    "scrolled": false
   },
   "outputs": [
    {
     "data": {
      "application/vnd.jupyter.widget-view+json": {
       "model_id": "8a73a8e7b6144a569c41551b05fe3c8f",
       "version_major": 2,
       "version_minor": 0
      },
      "text/plain": [
       "Text(value='Toy Story', description='Movie Title :')"
      ]
     },
     "metadata": {},
     "output_type": "display_data"
    },
    {
     "data": {
      "application/vnd.jupyter.widget-view+json": {
       "model_id": "5127e050b24545939b9f2a9671277d86",
       "version_major": 2,
       "version_minor": 0
      },
      "text/plain": [
       "Output()"
      ]
     },
     "metadata": {},
     "output_type": "display_data"
    }
   ],
   "source": [
    "from IPython.display import display\n",
    "import ipywidgets as widgets\n",
    "\n",
    "movie_input_name = widgets.Text(value='Toy Story' , description = 'Movie Title :',disabled=False)\n",
    "\n",
    "recommendation_list = widgets.Output()\n",
    "\n",
    "def on_type(data):\n",
    "    with recommendation_list:\n",
    "        recommendation_list.clear_output()\n",
    "        title = data['new']\n",
    "        title = clean_title(title)\n",
    "        if len(title) > 5:\n",
    "            results = search(title)\n",
    "            display(results[['clean_title','genres']].head(1))\n",
    "            movie_id = results.iloc[0]['movieId']\n",
    "            print(\"Recommendations\")\n",
    "            display(find_similar_movies(movie_id))\n",
    "        \n",
    "movie_input_name.observe(on_type,names='value')\n",
    "\n",
    "display(movie_input_name,recommendation_list)"
   ]
  },
  {
   "cell_type": "code",
   "execution_count": null,
   "id": "4f70e1ce",
   "metadata": {},
   "outputs": [],
   "source": []
  }
 ],
 "metadata": {
  "kernelspec": {
   "display_name": "Python 3",
   "language": "python",
   "name": "python3"
  },
  "language_info": {
   "codemirror_mode": {
    "name": "ipython",
    "version": 3
   },
   "file_extension": ".py",
   "mimetype": "text/x-python",
   "name": "python",
   "nbconvert_exporter": "python",
   "pygments_lexer": "ipython3",
   "version": "3.8.3"
  }
 },
 "nbformat": 4,
 "nbformat_minor": 5
}
